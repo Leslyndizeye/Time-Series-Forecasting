{
  "nbformat": 4,
  "nbformat_minor": 0,
  "metadata": {
    "colab": {
      "provenance": [],
      "authorship_tag": "ABX9TyPYk/lePiRseVowGMQWW0Ap",
      "include_colab_link": true
    },
    "kernelspec": {
      "name": "python3",
      "display_name": "Python 3"
    },
    "language_info": {
      "name": "python"
    }
  },
  "cells": [
    {
      "cell_type": "markdown",
      "metadata": {
        "id": "view-in-github",
        "colab_type": "text"
      },
      "source": [
        "<a href=\"https://colab.research.google.com/github/Leslyndizeye/Time-Series-Forecasting/blob/main/air_quality_forecasting_3.ipynb\" target=\"_parent\"><img src=\"https://colab.research.google.com/assets/colab-badge.svg\" alt=\"Open In Colab\"/></a>"
      ]
    },
    {
      "cell_type": "markdown",
      "source": [
        "SECTION 1: IMPORT LIBRARIES"
      ],
      "metadata": {
        "id": "aVuopekAkWac"
      }
    },
    {
      "cell_type": "code",
      "execution_count": 1,
      "metadata": {
        "colab": {
          "base_uri": "https://localhost:8080/"
        },
        "id": "SM0ER3o3kLR8",
        "outputId": "83bc4f74-125d-4b57-ab60-3e3aa417a323"
      },
      "outputs": [
        {
          "output_type": "stream",
          "name": "stdout",
          "text": [
            "✅ Libraries imported successfully!\n"
          ]
        }
      ],
      "source": [
        "import pandas as pd\n",
        "import numpy as np\n",
        "import matplotlib.pyplot as plt\n",
        "import seaborn as sns\n",
        "import warnings\n",
        "import os\n",
        "import time\n",
        "from datetime import datetime\n",
        "\n",
        "# TensorFlow imports\n",
        "import tensorflow as tf\n",
        "from tensorflow.keras.models import Sequential\n",
        "from tensorflow.keras.layers import LSTM, Dense, Dropout, Bidirectional\n",
        "from tensorflow.keras.optimizers import Adam\n",
        "from tensorflow.keras.callbacks import EarlyStopping, ReduceLROnPlateau\n",
        "\n",
        "# Scikit-learn imports\n",
        "from sklearn.preprocessing import StandardScaler\n",
        "from sklearn.metrics import mean_squared_error, mean_absolute_error\n",
        "from sklearn.feature_selection import SelectKBest, f_regression\n",
        "\n",
        "# Configuration\n",
        "plt.style.use('default')\n",
        "warnings.filterwarnings('ignore')\n",
        "np.random.seed(42)\n",
        "tf.random.set_seed(42)\n",
        "\n",
        "print(\"✅ Libraries imported successfully!\")"
      ]
    },
    {
      "cell_type": "markdown",
      "source": [
        "SECTION 2: DATA LOADING & PREPROCESSING"
      ],
      "metadata": {
        "id": "TSccKjI8ndki"
      }
    },
    {
      "cell_type": "code",
      "source": [
        "print(\"\\n\" + \"=\"*60)\n",
        "print(\"DATA LOADING & PREPROCESSING\")\n",
        "print(\"=\"*60)\n",
        "\n",
        "from google.colab import drive\n",
        "drive.mount('/content/drive')\n",
        "\n",
        "# Load datasets\n",
        "train = pd.read_csv('/content/drive/My Drive/air_quality/data/train.csv')\n",
        "test = pd.read_csv('/content/drive/My Drive/air_quality/data/test.csv')\n",
        "\n",
        "print(\"📊 Data Loading Complete:\")\n",
        "print(f\"Training Data Shape: {train.shape}\")\n",
        "print(f\"Test Data Shape: {test.shape}\")\n",
        "\n",
        "# Enhanced feature engineering\n",
        "def create_advanced_features(df, is_training=True):\n",
        "    \"\"\"Enhanced feature engineering\"\"\"\n",
        "    df = df.copy()\n",
        "    df['datetime'] = pd.to_datetime(df['datetime'])\n",
        "\n",
        "    # Basic time features\n",
        "    df['hour'] = df['datetime'].dt.hour\n",
        "    df['day_of_week'] = df['datetime'].dt.dayofweek\n",
        "    df['month'] = df['datetime'].dt.month\n",
        "    df['is_weekend'] = df['day_of_week'].isin([5, 6]).astype(int)\n",
        "\n",
        "    # Cyclical encoding\n",
        "    df['hour_sin'] = np.sin(2 * np.pi * df['hour'] / 24)\n",
        "    df['hour_cos'] = np.cos(2 * np.pi * df['hour'] / 24)\n",
        "    df['day_sin'] = np.sin(2 * np.pi * df['day_of_week'] / 7)\n",
        "    df['day_cos'] = np.cos(2 * np.pi * df['day_of_week'] / 7)\n",
        "\n",
        "    # Weather interactions\n",
        "    df['temp_dew_diff'] = df['TEMP'] - df['DEWP']\n",
        "    df['wind_pressure'] = df['Iws'] * df['PRES']\n",
        "\n",
        "    # Only create PM2.5 based features for training data\n",
        "    if is_training and 'pm2.5' in df.columns:\n",
        "        # Rolling statistics\n",
        "        for window in [6, 12, 24]:\n",
        "            df[f'pm2.5_roll_mean_{window}'] = df['pm2.5'].rolling(window=window, min_periods=1).mean()\n",
        "        # Lag features\n",
        "        for lag in [1, 6, 12]:\n",
        "            df[f'pm2.5_lag_{lag}'] = df['pm2.5'].shift(lag)\n",
        "\n",
        "    return df\n",
        "\n",
        "# Apply feature engineering\n",
        "train_filled = train.ffill().bfill().fillna(train.mean(numeric_only=True))\n",
        "test_filled = test.ffill().bfill().fillna(test.mean(numeric_only=True))\n",
        "\n",
        "train_enhanced = create_advanced_features(train_filled, is_training=True)\n",
        "test_enhanced = create_advanced_features(test_filled, is_training=False)\n",
        "\n",
        "# Handle NaN values\n",
        "train_enhanced = train_enhanced.ffill().bfill().fillna(0)\n",
        "test_enhanced = test_enhanced.ffill().bfill().fillna(0)\n",
        "\n",
        "# Prepare features and target\n",
        "X_train = train_enhanced.drop(['pm2.5', 'No', 'datetime'], axis=1, errors='ignore')\n",
        "y_train = train_enhanced['pm2.5']\n",
        "X_test = test_enhanced.drop(['No', 'datetime'], axis=1, errors='ignore')\n",
        "\n",
        "# Ensure same columns\n",
        "common_cols = list(set(X_train.columns) & set(X_test.columns))\n",
        "X_train = X_train[common_cols]\n",
        "X_test = X_test[common_cols]\n",
        "\n",
        "# Feature selection\n",
        "selector = SelectKBest(score_func=f_regression, k=min(20, len(common_cols)))\n",
        "X_train_selected = selector.fit_transform(X_train, y_train)\n",
        "selected_mask = selector.get_support()\n",
        "selected_features = X_train.columns[selected_mask]\n",
        "\n",
        "X_train = X_train[selected_features]\n",
        "X_test = X_test[selected_features]\n",
        "\n",
        "# Scale features\n",
        "scaler = StandardScaler()\n",
        "X_train_scaled = scaler.fit_transform(X_train)\n",
        "X_test_scaled = scaler.transform(X_test)\n",
        "\n",
        "print(f\"✅ Preprocessing complete. Using {len(selected_features)} features\")"
      ],
      "metadata": {
        "colab": {
          "base_uri": "https://localhost:8080/"
        },
        "id": "r0m_Jc4ClAy1",
        "outputId": "91fcdcb4-2e48-4b2e-e5ea-529b07144ba1"
      },
      "execution_count": 2,
      "outputs": [
        {
          "output_type": "stream",
          "name": "stdout",
          "text": [
            "\n",
            "============================================================\n",
            "DATA LOADING & PREPROCESSING\n",
            "============================================================\n",
            "Drive already mounted at /content/drive; to attempt to forcibly remount, call drive.mount(\"/content/drive\", force_remount=True).\n",
            "📊 Data Loading Complete:\n",
            "Training Data Shape: (30676, 12)\n",
            "Test Data Shape: (13148, 11)\n",
            "✅ Preprocessing complete. Using 19 features\n"
          ]
        }
      ]
    },
    {
      "cell_type": "markdown",
      "source": [
        "### SECTION 3: MANUAL HYPERPARAMETER TUNING"
      ],
      "metadata": {
        "id": "-QSOqV0knxXM"
      }
    },
    {
      "cell_type": "code",
      "source": [
        "print(\"\\n\" + \"=\"*60)\n",
        "print(\"MANUAL HYPERPARAMETER TUNING\")\n",
        "print(\"=\"*60)\n",
        "\n",
        "# Create sequences for LSTM\n",
        "def create_sequences(X, y, time_steps=24):\n",
        "    Xs, ys = [], []\n",
        "    for i in range(len(X) - time_steps):\n",
        "        Xs.append(X[i:(i + time_steps)])\n",
        "        ys.append(y[i + time_steps])\n",
        "    return np.array(Xs), np.array(ys)\n",
        "\n",
        "TIME_STEPS = 24\n",
        "X_seq, y_seq = create_sequences(X_train_scaled, y_train.values, TIME_STEPS)\n",
        "\n",
        "# Use smaller subset for tuning (for speed)\n",
        "tune_size = min(2000, len(X_seq))\n",
        "X_tune, y_tune = X_seq[:tune_size], y_seq[:tune_size]\n",
        "\n",
        "print(f\"✅ Tuning dataset: {X_tune.shape}\")\n",
        "\n",
        "# Manual hyperparameter tuning function\n",
        "def manual_hyperparameter_tuning(X_train, y_train, X_val, y_val):\n",
        "    \"\"\"Manual hyperparameter tuning without external dependencies\"\"\"\n",
        "    best_score = float('inf')\n",
        "    best_params = {}\n",
        "    best_model = None\n",
        "\n",
        "    # Parameter combinations to try\n",
        "    param_combinations = [\n",
        "        {'units': 32, 'dropout_rate': 0.2, 'learning_rate': 0.001, 'batch_size': 64},\n",
        "        {'units': 64, 'dropout_rate': 0.2, 'learning_rate': 0.001, 'batch_size': 64},\n",
        "        {'units': 64, 'dropout_rate': 0.3, 'learning_rate': 0.0005, 'batch_size': 128},\n",
        "        {'units': 128, 'dropout_rate': 0.3, 'learning_rate': 0.0005, 'batch_size': 128},\n",
        "        {'units': 64, 'dropout_rate': 0.2, 'learning_rate': 0.001, 'batch_size': 32},\n",
        "    ]\n",
        "\n",
        "    results = []\n",
        "\n",
        "    for i, params in enumerate(param_combinations):\n",
        "        print(f\"\\n🔧 Testing combination {i+1}/{len(param_combinations)}: {params}\")\n",
        "\n",
        "        model = Sequential([\n",
        "            Bidirectional(LSTM(params['units'], activation='tanh', return_sequences=True),\n",
        "                         input_shape=(X_train.shape[1], X_train.shape[2])),\n",
        "            Dropout(params['dropout_rate']),\n",
        "            Bidirectional(LSTM(params['units']//2, activation='relu')),\n",
        "            Dropout(params['dropout_rate']),\n",
        "            Dense(1)\n",
        "        ])\n",
        "\n",
        "        model.compile(\n",
        "            optimizer=Adam(learning_rate=params['learning_rate']),\n",
        "            loss='mse',\n",
        "            metrics=['mae']\n",
        "        )\n",
        "\n",
        "        # Train quickly\n",
        "        history = model.fit(\n",
        "            X_train, y_train,\n",
        "            validation_data=(X_val, y_val),\n",
        "            epochs=8,  # Fewer epochs for speed\n",
        "            batch_size=params['batch_size'],\n",
        "            verbose=0\n",
        "        )\n",
        "\n",
        "        # Evaluate\n",
        "        val_pred = model.predict(X_val, verbose=0)\n",
        "        val_rmse = np.sqrt(mean_squared_error(y_val, val_pred))\n",
        "        val_mae = mean_absolute_error(y_val, val_pred)\n",
        "\n",
        "        results.append({\n",
        "            'params': params,\n",
        "            'rmse': val_rmse,\n",
        "            'mae': val_mae\n",
        "        })\n",
        "\n",
        "        print(f\"   Validation RMSE: {val_rmse:.2f}, MAE: {val_mae:.2f}\")\n",
        "\n",
        "        if val_rmse < best_score:\n",
        "            best_score = val_rmse\n",
        "            best_params = params\n",
        "            best_model = model\n",
        "            print(f\"    New best! RMSE: {val_rmse:.2f}\")\n",
        "\n",
        "    return best_model, best_params, best_score, results\n",
        "\n",
        "# Split tuning data for validation\n",
        "tune_split = int(0.8 * len(X_tune))\n",
        "X_tune_train, X_tune_val = X_tune[:tune_split], X_tune[tune_split:]\n",
        "y_tune_train, y_tune_val = y_tune[:tune_split], y_tune[tune_split:]\n",
        "\n",
        "print(\"Starting manual hyperparameter tuning...\")\n",
        "start_time = time.time()\n",
        "\n",
        "best_model, best_params, best_score, tuning_results = manual_hyperparameter_tuning(\n",
        "    X_tune_train, y_tune_train, X_tune_val, y_tune_val\n",
        ")\n",
        "\n",
        "print(f\"\\n Manual tuning completed in {time.time() - start_time:.1f} seconds\")\n",
        "print(f\" Best RMSE: {best_score:.2f}\")\n",
        "print(f\" Best Parameters: {best_params}\")\n",
        "\n",
        "# Display tuning results\n",
        "print(\"\\n Tuning Results Summary:\")\n",
        "for i, result in enumerate(tuning_results):\n",
        "    print(f\"Combination {i+1}: RMSE {result['rmse']:.2f} - {result['params']}\")"
      ],
      "metadata": {
        "colab": {
          "base_uri": "https://localhost:8080/"
        },
        "id": "5cJaoJqVnyyU",
        "outputId": "75781025-1ec9-4d0b-a314-1fd0644247fa"
      },
      "execution_count": 3,
      "outputs": [
        {
          "output_type": "stream",
          "name": "stdout",
          "text": [
            "\n",
            "============================================================\n",
            "MANUAL HYPERPARAMETER TUNING\n",
            "============================================================\n",
            "✅ Tuning dataset: (2000, 24, 19)\n",
            "Starting manual hyperparameter tuning...\n",
            "\n",
            "🔧 Testing combination 1/5: {'units': 32, 'dropout_rate': 0.2, 'learning_rate': 0.001, 'batch_size': 64}\n",
            "   Validation RMSE: 85.53, MAE: 43.29\n",
            "    New best! RMSE: 85.53\n",
            "\n",
            "🔧 Testing combination 2/5: {'units': 64, 'dropout_rate': 0.2, 'learning_rate': 0.001, 'batch_size': 64}\n",
            "   Validation RMSE: 86.88, MAE: 43.75\n",
            "\n",
            "🔧 Testing combination 3/5: {'units': 64, 'dropout_rate': 0.3, 'learning_rate': 0.0005, 'batch_size': 128}\n",
            "   Validation RMSE: 99.87, MAE: 53.21\n",
            "\n",
            "🔧 Testing combination 4/5: {'units': 128, 'dropout_rate': 0.3, 'learning_rate': 0.0005, 'batch_size': 128}\n",
            "   Validation RMSE: 86.37, MAE: 43.84\n",
            "\n",
            "🔧 Testing combination 5/5: {'units': 64, 'dropout_rate': 0.2, 'learning_rate': 0.001, 'batch_size': 32}\n",
            "   Validation RMSE: 90.46, MAE: 45.43\n",
            "\n",
            " Manual tuning completed in 144.9 seconds\n",
            " Best RMSE: 85.53\n",
            " Best Parameters: {'units': 32, 'dropout_rate': 0.2, 'learning_rate': 0.001, 'batch_size': 64}\n",
            "\n",
            " Tuning Results Summary:\n",
            "Combination 1: RMSE 85.53 - {'units': 32, 'dropout_rate': 0.2, 'learning_rate': 0.001, 'batch_size': 64}\n",
            "Combination 2: RMSE 86.88 - {'units': 64, 'dropout_rate': 0.2, 'learning_rate': 0.001, 'batch_size': 64}\n",
            "Combination 3: RMSE 99.87 - {'units': 64, 'dropout_rate': 0.3, 'learning_rate': 0.0005, 'batch_size': 128}\n",
            "Combination 4: RMSE 86.37 - {'units': 128, 'dropout_rate': 0.3, 'learning_rate': 0.0005, 'batch_size': 128}\n",
            "Combination 5: RMSE 90.46 - {'units': 64, 'dropout_rate': 0.2, 'learning_rate': 0.001, 'batch_size': 32}\n"
          ]
        }
      ]
    },
    {
      "cell_type": "markdown",
      "source": [
        "## SECTION 4: BEST MODEL TRAINING"
      ],
      "metadata": {
        "id": "-GFBZiy0oUHN"
      }
    },
    {
      "cell_type": "code",
      "source": [
        "# Create full training sequences\n",
        "X_full_seq, y_full_seq = create_sequences(X_train_scaled, y_train.values, TIME_STEPS)\n",
        "\n",
        "# Split for validation\n",
        "split_idx = int(0.8 * len(X_full_seq))\n",
        "X_train_seq, X_val_seq = X_full_seq[:split_idx], X_full_seq[split_idx:]\n",
        "y_train_seq, y_val_seq = y_full_seq[:split_idx], y_full_seq[split_idx:]\n",
        "\n",
        "print(f\"Full dataset: Train {X_train_seq.shape}, Val {X_val_seq.shape}\")\n",
        "\n",
        "# Build final model with best parameters\n",
        "final_model = Sequential([\n",
        "    Bidirectional(LSTM(best_params['units'], activation='tanh', return_sequences=True),\n",
        "                 input_shape=(X_train_seq.shape[1], X_train_seq.shape[2])),\n",
        "    Dropout(best_params['dropout_rate']),\n",
        "    Bidirectional(LSTM(best_params['units']//2, activation='relu')),\n",
        "    Dropout(best_params['dropout_rate']),\n",
        "    Dense(1)\n",
        "])\n",
        "\n",
        "final_model.compile(\n",
        "    optimizer=Adam(learning_rate=best_params['learning_rate']),\n",
        "    loss='mse',\n",
        "    metrics=['mae']\n",
        ")\n",
        "final_model.summary()\n",
        "# Train final model\n",
        "history = final_model.fit(\n",
        "    X_train_seq, y_train_seq,\n",
        "    validation_data=(X_val_seq, y_val_seq),\n",
        "    epochs=25,\n",
        "    batch_size=best_params['batch_size'],\n",
        "    callbacks=[\n",
        "        EarlyStopping(monitor='val_loss', patience=6, restore_best_weights=True),\n",
        "        ReduceLROnPlateau(monitor='val_loss', factor=0.5, patience=3, min_lr=0.00001)\n",
        "    ],\n",
        "    verbose=1\n",
        ")\n",
        "\n",
        "# Evaluate\n",
        "val_pred = final_model.predict(X_val_seq, verbose=0)\n",
        "val_rmse = np.sqrt(mean_squared_error(y_val_seq, val_pred))\n",
        "val_mae = mean_absolute_error(y_val_seq, val_pred)\n",
        "\n",
        "print(f\"\\n📊 Final Model Performance:\")\n",
        "print(f\"Validation RMSE: {val_rmse:.2f}\")\n",
        "print(f\"Validation MAE: {val_mae:.2f}\")\n",
        "\n",
        "# Plot training history\n",
        "plt.figure(figsize=(12, 4))\n",
        "plt.subplot(1, 2, 1)\n",
        "plt.plot(history.history['loss'], label='Training Loss')\n",
        "plt.plot(history.history['val_loss'], label='Validation Loss')\n",
        "plt.title('Model Loss')\n",
        "plt.xlabel('Epochs')\n",
        "plt.ylabel('Loss')\n",
        "plt.legend()\n",
        "\n",
        "plt.subplot(1, 2, 2)\n",
        "plt.plot(history.history['mae'], label='Training MAE')\n",
        "plt.plot(history.history['val_mae'], label='Validation MAE')\n",
        "plt.title('Model MAE')\n",
        "plt.xlabel('Epochs')\n",
        "plt.ylabel('MAE')\n",
        "plt.legend()\n",
        "\n",
        "plt.tight_layout()\n",
        "plt.show()"
      ],
      "metadata": {
        "colab": {
          "base_uri": "https://localhost:8080/",
          "height": 1000
        },
        "id": "ykBTfESjrO9_",
        "outputId": "a8406ec0-3cde-4586-8e05-8d0aa4d02ede"
      },
      "execution_count": 4,
      "outputs": [
        {
          "output_type": "stream",
          "name": "stdout",
          "text": [
            "Full dataset: Train (24521, 24, 19), Val (6131, 24, 19)\n"
          ]
        },
        {
          "output_type": "display_data",
          "data": {
            "text/plain": [
              "\u001b[1mModel: \"sequential_5\"\u001b[0m\n"
            ],
            "text/html": [
              "<pre style=\"white-space:pre;overflow-x:auto;line-height:normal;font-family:Menlo,'DejaVu Sans Mono',consolas,'Courier New',monospace\"><span style=\"font-weight: bold\">Model: \"sequential_5\"</span>\n",
              "</pre>\n"
            ]
          },
          "metadata": {}
        },
        {
          "output_type": "display_data",
          "data": {
            "text/plain": [
              "┏━━━━━━━━━━━━━━━━━━━━━━━━━━━━━━━━━┳━━━━━━━━━━━━━━━━━━━━━━━━┳━━━━━━━━━━━━━━━┓\n",
              "┃\u001b[1m \u001b[0m\u001b[1mLayer (type)                   \u001b[0m\u001b[1m \u001b[0m┃\u001b[1m \u001b[0m\u001b[1mOutput Shape          \u001b[0m\u001b[1m \u001b[0m┃\u001b[1m \u001b[0m\u001b[1m      Param #\u001b[0m\u001b[1m \u001b[0m┃\n",
              "┡━━━━━━━━━━━━━━━━━━━━━━━━━━━━━━━━━╇━━━━━━━━━━━━━━━━━━━━━━━━╇━━━━━━━━━━━━━━━┩\n",
              "│ bidirectional_10                │ (\u001b[38;5;45mNone\u001b[0m, \u001b[38;5;34m24\u001b[0m, \u001b[38;5;34m64\u001b[0m)         │        \u001b[38;5;34m13,312\u001b[0m │\n",
              "│ (\u001b[38;5;33mBidirectional\u001b[0m)                 │                        │               │\n",
              "├─────────────────────────────────┼────────────────────────┼───────────────┤\n",
              "│ dropout_10 (\u001b[38;5;33mDropout\u001b[0m)            │ (\u001b[38;5;45mNone\u001b[0m, \u001b[38;5;34m24\u001b[0m, \u001b[38;5;34m64\u001b[0m)         │             \u001b[38;5;34m0\u001b[0m │\n",
              "├─────────────────────────────────┼────────────────────────┼───────────────┤\n",
              "│ bidirectional_11                │ (\u001b[38;5;45mNone\u001b[0m, \u001b[38;5;34m32\u001b[0m)             │        \u001b[38;5;34m10,368\u001b[0m │\n",
              "│ (\u001b[38;5;33mBidirectional\u001b[0m)                 │                        │               │\n",
              "├─────────────────────────────────┼────────────────────────┼───────────────┤\n",
              "│ dropout_11 (\u001b[38;5;33mDropout\u001b[0m)            │ (\u001b[38;5;45mNone\u001b[0m, \u001b[38;5;34m32\u001b[0m)             │             \u001b[38;5;34m0\u001b[0m │\n",
              "├─────────────────────────────────┼────────────────────────┼───────────────┤\n",
              "│ dense_5 (\u001b[38;5;33mDense\u001b[0m)                 │ (\u001b[38;5;45mNone\u001b[0m, \u001b[38;5;34m1\u001b[0m)              │            \u001b[38;5;34m33\u001b[0m │\n",
              "└─────────────────────────────────┴────────────────────────┴───────────────┘\n"
            ],
            "text/html": [
              "<pre style=\"white-space:pre;overflow-x:auto;line-height:normal;font-family:Menlo,'DejaVu Sans Mono',consolas,'Courier New',monospace\">┏━━━━━━━━━━━━━━━━━━━━━━━━━━━━━━━━━┳━━━━━━━━━━━━━━━━━━━━━━━━┳━━━━━━━━━━━━━━━┓\n",
              "┃<span style=\"font-weight: bold\"> Layer (type)                    </span>┃<span style=\"font-weight: bold\"> Output Shape           </span>┃<span style=\"font-weight: bold\">       Param # </span>┃\n",
              "┡━━━━━━━━━━━━━━━━━━━━━━━━━━━━━━━━━╇━━━━━━━━━━━━━━━━━━━━━━━━╇━━━━━━━━━━━━━━━┩\n",
              "│ bidirectional_10                │ (<span style=\"color: #00d7ff; text-decoration-color: #00d7ff\">None</span>, <span style=\"color: #00af00; text-decoration-color: #00af00\">24</span>, <span style=\"color: #00af00; text-decoration-color: #00af00\">64</span>)         │        <span style=\"color: #00af00; text-decoration-color: #00af00\">13,312</span> │\n",
              "│ (<span style=\"color: #0087ff; text-decoration-color: #0087ff\">Bidirectional</span>)                 │                        │               │\n",
              "├─────────────────────────────────┼────────────────────────┼───────────────┤\n",
              "│ dropout_10 (<span style=\"color: #0087ff; text-decoration-color: #0087ff\">Dropout</span>)            │ (<span style=\"color: #00d7ff; text-decoration-color: #00d7ff\">None</span>, <span style=\"color: #00af00; text-decoration-color: #00af00\">24</span>, <span style=\"color: #00af00; text-decoration-color: #00af00\">64</span>)         │             <span style=\"color: #00af00; text-decoration-color: #00af00\">0</span> │\n",
              "├─────────────────────────────────┼────────────────────────┼───────────────┤\n",
              "│ bidirectional_11                │ (<span style=\"color: #00d7ff; text-decoration-color: #00d7ff\">None</span>, <span style=\"color: #00af00; text-decoration-color: #00af00\">32</span>)             │        <span style=\"color: #00af00; text-decoration-color: #00af00\">10,368</span> │\n",
              "│ (<span style=\"color: #0087ff; text-decoration-color: #0087ff\">Bidirectional</span>)                 │                        │               │\n",
              "├─────────────────────────────────┼────────────────────────┼───────────────┤\n",
              "│ dropout_11 (<span style=\"color: #0087ff; text-decoration-color: #0087ff\">Dropout</span>)            │ (<span style=\"color: #00d7ff; text-decoration-color: #00d7ff\">None</span>, <span style=\"color: #00af00; text-decoration-color: #00af00\">32</span>)             │             <span style=\"color: #00af00; text-decoration-color: #00af00\">0</span> │\n",
              "├─────────────────────────────────┼────────────────────────┼───────────────┤\n",
              "│ dense_5 (<span style=\"color: #0087ff; text-decoration-color: #0087ff\">Dense</span>)                 │ (<span style=\"color: #00d7ff; text-decoration-color: #00d7ff\">None</span>, <span style=\"color: #00af00; text-decoration-color: #00af00\">1</span>)              │            <span style=\"color: #00af00; text-decoration-color: #00af00\">33</span> │\n",
              "└─────────────────────────────────┴────────────────────────┴───────────────┘\n",
              "</pre>\n"
            ]
          },
          "metadata": {}
        },
        {
          "output_type": "display_data",
          "data": {
            "text/plain": [
              "\u001b[1m Total params: \u001b[0m\u001b[38;5;34m23,713\u001b[0m (92.63 KB)\n"
            ],
            "text/html": [
              "<pre style=\"white-space:pre;overflow-x:auto;line-height:normal;font-family:Menlo,'DejaVu Sans Mono',consolas,'Courier New',monospace\"><span style=\"font-weight: bold\"> Total params: </span><span style=\"color: #00af00; text-decoration-color: #00af00\">23,713</span> (92.63 KB)\n",
              "</pre>\n"
            ]
          },
          "metadata": {}
        },
        {
          "output_type": "display_data",
          "data": {
            "text/plain": [
              "\u001b[1m Trainable params: \u001b[0m\u001b[38;5;34m23,713\u001b[0m (92.63 KB)\n"
            ],
            "text/html": [
              "<pre style=\"white-space:pre;overflow-x:auto;line-height:normal;font-family:Menlo,'DejaVu Sans Mono',consolas,'Courier New',monospace\"><span style=\"font-weight: bold\"> Trainable params: </span><span style=\"color: #00af00; text-decoration-color: #00af00\">23,713</span> (92.63 KB)\n",
              "</pre>\n"
            ]
          },
          "metadata": {}
        },
        {
          "output_type": "display_data",
          "data": {
            "text/plain": [
              "\u001b[1m Non-trainable params: \u001b[0m\u001b[38;5;34m0\u001b[0m (0.00 B)\n"
            ],
            "text/html": [
              "<pre style=\"white-space:pre;overflow-x:auto;line-height:normal;font-family:Menlo,'DejaVu Sans Mono',consolas,'Courier New',monospace\"><span style=\"font-weight: bold\"> Non-trainable params: </span><span style=\"color: #00af00; text-decoration-color: #00af00\">0</span> (0.00 B)\n",
              "</pre>\n"
            ]
          },
          "metadata": {}
        },
        {
          "output_type": "stream",
          "name": "stdout",
          "text": [
            "Epoch 1/25\n",
            "\u001b[1m384/384\u001b[0m \u001b[32m━━━━━━━━━━━━━━━━━━━━\u001b[0m\u001b[37m\u001b[0m \u001b[1m28s\u001b[0m 46ms/step - loss: 9472.3555 - mae: 68.0054 - val_loss: 7967.3047 - val_mae: 58.0129 - learning_rate: 0.0010\n",
            "Epoch 2/25\n",
            "\u001b[1m384/384\u001b[0m \u001b[32m━━━━━━━━━━━━━━━━━━━━\u001b[0m\u001b[37m\u001b[0m \u001b[1m19s\u001b[0m 43ms/step - loss: 4814.1587 - mae: 47.7145 - val_loss: 7467.6313 - val_mae: 56.6557 - learning_rate: 0.0010\n",
            "Epoch 3/25\n",
            "\u001b[1m384/384\u001b[0m \u001b[32m━━━━━━━━━━━━━━━━━━━━\u001b[0m\u001b[37m\u001b[0m \u001b[1m21s\u001b[0m 44ms/step - loss: 4129.3213 - mae: 43.6684 - val_loss: 7339.9673 - val_mae: 53.9403 - learning_rate: 0.0010\n",
            "Epoch 4/25\n",
            "\u001b[1m384/384\u001b[0m \u001b[32m━━━━━━━━━━━━━━━━━━━━\u001b[0m\u001b[37m\u001b[0m \u001b[1m21s\u001b[0m 45ms/step - loss: 3604.7937 - mae: 41.0560 - val_loss: 7184.3140 - val_mae: 53.4663 - learning_rate: 0.0010\n",
            "Epoch 5/25\n",
            "\u001b[1m384/384\u001b[0m \u001b[32m━━━━━━━━━━━━━━━━━━━━\u001b[0m\u001b[37m\u001b[0m \u001b[1m22s\u001b[0m 49ms/step - loss: 3247.2681 - mae: 38.7911 - val_loss: 7055.7607 - val_mae: 53.4704 - learning_rate: 0.0010\n",
            "Epoch 6/25\n",
            "\u001b[1m384/384\u001b[0m \u001b[32m━━━━━━━━━━━━━━━━━━━━\u001b[0m\u001b[37m\u001b[0m \u001b[1m19s\u001b[0m 46ms/step - loss: 2928.8860 - mae: 37.2369 - val_loss: 7297.9395 - val_mae: 54.4191 - learning_rate: 0.0010\n",
            "Epoch 7/25\n",
            "\u001b[1m384/384\u001b[0m \u001b[32m━━━━━━━━━━━━━━━━━━━━\u001b[0m\u001b[37m\u001b[0m \u001b[1m20s\u001b[0m 44ms/step - loss: 2733.7942 - mae: 36.0111 - val_loss: 7392.2363 - val_mae: 54.9933 - learning_rate: 0.0010\n",
            "Epoch 8/25\n",
            "\u001b[1m384/384\u001b[0m \u001b[32m━━━━━━━━━━━━━━━━━━━━\u001b[0m\u001b[37m\u001b[0m \u001b[1m20s\u001b[0m 44ms/step - loss: 2579.7493 - mae: 34.6769 - val_loss: 7215.2793 - val_mae: 53.1433 - learning_rate: 0.0010\n",
            "Epoch 9/25\n",
            "\u001b[1m384/384\u001b[0m \u001b[32m━━━━━━━━━━━━━━━━━━━━\u001b[0m\u001b[37m\u001b[0m \u001b[1m21s\u001b[0m 46ms/step - loss: 2324.2649 - mae: 33.2817 - val_loss: 7844.8867 - val_mae: 55.5215 - learning_rate: 5.0000e-04\n",
            "Epoch 10/25\n",
            "\u001b[1m384/384\u001b[0m \u001b[32m━━━━━━━━━━━━━━━━━━━━\u001b[0m\u001b[37m\u001b[0m \u001b[1m23s\u001b[0m 61ms/step - loss: 2206.2578 - mae: 32.3956 - val_loss: 7706.0435 - val_mae: 55.1384 - learning_rate: 5.0000e-04\n",
            "Epoch 11/25\n",
            "\u001b[1m384/384\u001b[0m \u001b[32m━━━━━━━━━━━━━━━━━━━━\u001b[0m\u001b[37m\u001b[0m \u001b[1m35s\u001b[0m 44ms/step - loss: 2108.9749 - mae: 31.7061 - val_loss: 7974.2041 - val_mae: 56.1694 - learning_rate: 5.0000e-04\n",
            "\n",
            "📊 Final Model Performance:\n",
            "Validation RMSE: 84.00\n",
            "Validation MAE: 53.47\n"
          ]
        },
        {
          "output_type": "display_data",
          "data": {
            "text/plain": [
              "<Figure size 1200x400 with 2 Axes>"
            ],
            "image/png": "[encoded data removed]"
          },
          "metadata": {}
        }
      ]
    },
    {
      "cell_type": "markdown",
      "source": [
        "### SECTION 5: PREDICTION & SUBMISSION"
      ],
      "metadata": {
        "id": "SGqc0-Z-r_eb"
      }
    },
    {
      "cell_type": "code",
      "source": [
        "# Create test sequences\n",
        "X_test_seq = []\n",
        "current_sequence = X_train_scaled[-TIME_STEPS:].copy()\n",
        "\n",
        "for i in range(len(X_test_scaled)):\n",
        "    current_sequence = np.roll(current_sequence, -1, axis=0)\n",
        "    current_sequence[-1] = X_test_scaled[i]\n",
        "    X_test_seq.append(current_sequence.copy())\n",
        "\n",
        "X_test_seq = np.array(X_test_seq)\n",
        "\n",
        "# Generate predictions\n",
        "test_predictions = final_model.predict(X_test_seq, verbose=1).flatten()\n",
        "\n",
        "# Ensure correct length\n",
        "test_original = pd.read_csv('/content/drive/My Drive/air_quality/data/test.csv')\n",
        "if len(test_predictions) > len(test_original):\n",
        "    test_predictions = test_predictions[:len(test_original)]\n",
        "elif len(test_predictions) < len(test_original):\n",
        "    last_pred = test_predictions[-1] if len(test_predictions) > 0 else 0\n",
        "    pad_needed = len(test_original) - len(test_predictions)\n",
        "    test_predictions = np.append(test_predictions, [last_pred] * pad_needed)\n",
        "\n",
        "# Create submission with proper format (no leading zeros)\n",
        "def remove_leading_zeros(dt_str):\n",
        "    \"\"\"Remove leading zeros from datetime string\"\"\"\n",
        "    if ' ' in str(dt_str) and ':' in str(dt_str):\n",
        "        date_part, time_part = str(dt_str).split(' ')\n",
        "        time_parts = time_part.split(':')\n",
        "        # Remove leading zero only from hour\n",
        "        if time_parts[0].startswith('0') and len(time_parts[0]) == 2:\n",
        "            time_parts[0] = time_parts[0][1]\n",
        "        return f\"{date_part} {':'.join(time_parts)}\"\n",
        "    return str(dt_str)\n",
        "\n",
        "formatted_dates = [remove_leading_zeros(dt) for dt in test_original['datetime']]\n",
        "\n",
        "submission = pd.DataFrame({\n",
        "    'row ID': formatted_dates,\n",
        "    'pm2.5': np.clip(test_predictions, 0, None).astype(int)\n",
        "})\n",
        "\n",
        "# Save submission\n",
        "save_dir = '/content/drive/MyDrive/Kaggle_competition_ML/air_quality_forcasting'\n",
        "os.makedirs(save_dir, exist_ok=True)\n",
        "submission_file = os.path.join(save_dir, 'submission_tuned.csv')\n",
        "submission.to_csv(submission_file, index=False)\n",
        "\n",
        "print(f\"✅ Tuned model submission saved: {submission_file}\")\n",
        "\n",
        "# Verify submission format\n",
        "print(\"\\n🔍 Submission format verification:\")\n",
        "print(\"First 5 rows:\")\n",
        "for i in range(5):\n",
        "    print(f\"  {submission['row ID'].iloc[i]}, {submission['pm2.5'].iloc[i]}\")"
      ],
      "metadata": {
        "colab": {
          "base_uri": "https://localhost:8080/"
        },
        "id": "1Smk8o9UsCjX",
        "outputId": "93f36b83-689e-4fb7-8984-04f3b12ceefe"
      },
      "execution_count": 6,
      "outputs": [
        {
          "output_type": "stream",
          "name": "stdout",
          "text": [
            "\u001b[1m411/411\u001b[0m \u001b[32m━━━━━━━━━━━━━━━━━━━━\u001b[0m\u001b[37m\u001b[0m \u001b[1m4s\u001b[0m 10ms/step\n",
            "✅ Tuned model submission saved: /content/drive/MyDrive/Kaggle_competition_ML/air_quality_forcasting/submission_tuned.csv\n",
            "\n",
            "🔍 Submission format verification:\n",
            "First 5 rows:\n",
            "  2013-07-02 4:00:00, 37\n",
            "  2013-07-02 5:00:00, 32\n",
            "  2013-07-02 6:00:00, 29\n",
            "  2013-07-02 7:00:00, 26\n",
            "  2013-07-02 8:00:00, 23\n"
          ]
        }
      ]
    },
    {
      "cell_type": "markdown",
      "source": [
        "SECTION 6: PERFORMANCE ANALYSIS"
      ],
      "metadata": {
        "id": "nfscGFwSshaV"
      }
    },
    {
      "cell_type": "code",
      "source": [
        "print(\"🎯 HYPERPARAMETER TUNING RESULTS:\")\n",
        "print(f\"Best Parameters: {best_params}\")\n",
        "print(f\"Validation RMSE: {val_rmse:.2f}\")\n",
        "print(f\"Validation MAE: {val_mae:.2f}\")\n",
        "\n",
        "print(\"\\n📊 TUNING COMPARISON:\")\n",
        "for i, result in enumerate(tuning_results):\n",
        "    improvement = ((tuning_results[0]['rmse'] - result['rmse']) / tuning_results[0]['rmse']) * 100\n",
        "    print(f\"Combination {i+1}: RMSE {result['rmse']:.2f} ({improvement:+.1f}%)\")\n",
        "\n",
        "print(\"\\n✅ NOTEBOOK 3 COMPLETED SUCCESSFULLY!\")\n",
        "print(\"Next: Notebook 4 - Advanced Architectures and Ensembles\")"
      ],
      "metadata": {
        "colab": {
          "base_uri": "https://localhost:8080/"
        },
        "id": "zDzgiCOLskpN",
        "outputId": "d0e79a3a-b084-4c0c-995a-baa84ff57761"
      },
      "execution_count": 7,
      "outputs": [
        {
          "output_type": "stream",
          "name": "stdout",
          "text": [
            "🎯 HYPERPARAMETER TUNING RESULTS:\n",
            "Best Parameters: {'units': 32, 'dropout_rate': 0.2, 'learning_rate': 0.001, 'batch_size': 64}\n",
            "Validation RMSE: 84.00\n",
            "Validation MAE: 53.47\n",
            "\n",
            "📊 TUNING COMPARISON:\n",
            "Combination 1: RMSE 85.53 (+0.0%)\n",
            "Combination 2: RMSE 86.88 (-1.6%)\n",
            "Combination 3: RMSE 99.87 (-16.8%)\n",
            "Combination 4: RMSE 86.37 (-1.0%)\n",
            "Combination 5: RMSE 90.46 (-5.8%)\n",
            "\n",
            "✅ NOTEBOOK 3 COMPLETED SUCCESSFULLY!\n",
            "Next: Notebook 4 - Advanced Architectures and Ensembles\n"
          ]
        }
      ]
    }
  ]
}
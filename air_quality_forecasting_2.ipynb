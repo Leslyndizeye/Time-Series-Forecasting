{
  "nbformat": 4,
  "nbformat_minor": 0,
  "metadata": {
    "colab": {
      "provenance": [],
      "authorship_tag": "ABX9TyP//ME9uVgzzAlL7rupEA+Z",
      "include_colab_link": true
    },
    "kernelspec": {
      "name": "python3",
      "display_name": "Python 3"
    },
    "language_info": {
      "name": "python"
    }
  },
  "cells": [
    {
      "cell_type": "markdown",
      "metadata": {
        "id": "view-in-github",
        "colab_type": "text"
      },
      "source": [
        "<a href=\"https://colab.research.google.com/github/Leslyndizeye/Time-Series-Forecasting/blob/main/air_quality_forecasting_2.ipynb\" target=\"_parent\"><img src=\"https://colab.research.google.com/assets/colab-badge.svg\" alt=\"Open In Colab\"/></a>"
      ]
    },
    {
      "cell_type": "markdown",
      "source": [
        "## SECTION 1: IMPORTING LIBRARIES"
      ],
      "metadata": {
        "id": "m60Odgqtt2fy"
      }
    },
    {
      "cell_type": "code",
      "execution_count": 1,
      "metadata": {
        "id": "_ZnG9ZcXtmZE"
      },
      "outputs": [],
      "source": [
        "import pandas as pd\n",
        "import numpy as np\n",
        "import matplotlib.pyplot as plt\n",
        "import seaborn as sns\n",
        "import warnings\n",
        "import os\n",
        "from datetime import datetime\n",
        "\n",
        "# TensorFlow imports\n",
        "import tensorflow as tf\n",
        "from tensorflow.keras.models import Sequential\n",
        "from tensorflow.keras.layers import LSTM, Dense, Dropout, Bidirectional\n",
        "from tensorflow.keras.optimizers import Adam\n",
        "from tensorflow.keras.callbacks import EarlyStopping, ReduceLROnPlateau\n",
        "\n",
        "# Scikit-learn imports\n",
        "from sklearn.preprocessing import StandardScaler, RobustScaler\n",
        "from sklearn.metrics import mean_squared_error\n",
        "from sklearn.feature_selection import SelectKBest, f_regression\n",
        "\n",
        "# Configuration\n",
        "plt.style.use('default')\n",
        "warnings.filterwarnings('ignore')\n",
        "np.random.seed(42)\n",
        "tf.random.set_seed(42)\n"
      ]
    },
    {
      "cell_type": "markdown",
      "source": [
        "### SECTION 2: DATA LOADING"
      ],
      "metadata": {
        "id": "BoV_ucnfuV-7"
      }
    },
    {
      "cell_type": "code",
      "source": [
        "from google.colab import drive\n",
        "drive.mount('/content/drive')\n",
        "\n",
        "# Loading datasets\n",
        "train = pd.read_csv('/content/drive/My Drive/air_quality/data/train.csv')\n",
        "test = pd.read_csv('/content/drive/My Drive/air_quality/data/test.csv')\n",
        "\n",
        "print(\"Data Loading Complete:\")\n",
        "print(f\"Training Data Shape: {train.shape}\")\n",
        "print(f\"Test Data Shape: {test.shape}\")"
      ],
      "metadata": {
        "colab": {
          "base_uri": "https://localhost:8080/"
        },
        "id": "diwxE2xuuRxk",
        "outputId": "cc116d56-db4c-43f8-90cf-6233305d621b"
      },
      "execution_count": 3,
      "outputs": [
        {
          "output_type": "stream",
          "name": "stdout",
          "text": [
            "Drive already mounted at /content/drive; to attempt to forcibly remount, call drive.mount(\"/content/drive\", force_remount=True).\n",
            "Data Loading Complete:\n",
            "Training Data Shape: (30676, 12)\n",
            "Test Data Shape: (13148, 11)\n"
          ]
        }
      ]
    },
    {
      "cell_type": "markdown",
      "source": [
        "### SECTION 3: ADVANCED FEATURE ENGINEERING"
      ],
      "metadata": {
        "id": "9164wETnut4v"
      }
    },
    {
      "cell_type": "code",
      "source": [
        "# Reset index for preprocessing\n",
        "train_reset = train.reset_index()\n",
        "test_reset = test.reset_index()\n",
        "\n",
        "# Handle missing values\n",
        "train_filled = train_reset.ffill().bfill().fillna(train_reset.mean(numeric_only=True))\n",
        "test_filled = test_reset.ffill().bfill().fillna(test_reset.mean(numeric_only=True))\n",
        "\n",
        "print(f\"Missing values handled - Train: {train_filled.isnull().sum().sum()}, Test: {test_filled.isnull().sum().sum()}\")\n",
        "\n",
        "def create_advanced_features(df, is_training=True):\n",
        "    \"\"\"\n",
        "    Create advanced features with rolling statistics, lag features, and interactions\n",
        "    \"\"\"\n",
        "    df = df.copy()\n",
        "    df['datetime'] = pd.to_datetime(df['datetime'])\n",
        "\n",
        "    # Basic time features\n",
        "    df['hour'] = df['datetime'].dt.hour\n",
        "    df['day_of_week'] = df['datetime'].dt.dayofweek\n",
        "    df['month'] = df['datetime'].dt.month\n",
        "    df['day_of_year'] = df['datetime'].dt.dayofyear\n",
        "    df['is_weekend'] = df['day_of_week'].isin([5, 6]).astype(int)\n",
        "    df['is_night'] = ((df['hour'] >= 22) | (df['hour'] <= 6)).astype(int)\n",
        "\n",
        "    # Cyclical encoding\n",
        "    df['hour_sin'] = np.sin(2 * np.pi * df['hour'] / 24)\n",
        "    df['hour_cos'] = np.cos(2 * np.pi * df['hour'] / 24)\n",
        "    df['day_sin'] = np.sin(2 * np.pi * df['day_of_week'] / 7)\n",
        "    df['day_cos'] = np.cos(2 * np.pi * df['day_of_week'] / 7)\n",
        "    df['month_sin'] = np.sin(2 * np.pi * df['month'] / 12)\n",
        "    df['month_cos'] = np.cos(2 * np.pi * df['month'] / 12)\n",
        "\n",
        "    # Weather interaction features\n",
        "    df['temp_dew_diff'] = df['TEMP'] - df['DEWP']\n",
        "    df['wind_pressure'] = df['Iws'] * df['PRES']\n",
        "    df['temp_pressure'] = df['TEMP'] * df['PRES']\n",
        "    df['humidity_index'] = df['DEWP'] / (df['TEMP'] + 1e-6)\n",
        "\n",
        "    # Only create PM2.5 based features for training data\n",
        "    if is_training and 'pm2.5' in df.columns:\n",
        "        # Rolling statistics for PM2.5\n",
        "        for window in [3, 6, 12, 24]:\n",
        "            df[f'pm2.5_roll_mean_{window}'] = df['pm2.5'].rolling(window=window, min_periods=1).mean()\n",
        "            df[f'pm2.5_roll_std_{window}'] = df['pm2.5'].rolling(window=window, min_periods=1).std()\n",
        "            df[f'pm2.5_roll_min_{window}'] = df['pm2.5'].rolling(window=window, min_periods=1).min()\n",
        "            df[f'pm2.5_roll_max_{window}'] = df['pm2.5'].rolling(window=window, min_periods=1).max()\n",
        "\n",
        "        # Lag features for PM2.5\n",
        "        for lag in [1, 2, 3, 6, 12, 24]:\n",
        "            df[f'pm2.5_lag_{lag}'] = df['pm2.5'].shift(lag)\n",
        "\n",
        "        # Trend features\n",
        "        df['pm2.5_trend_3h'] = df['pm2.5'] - df['pm2.5'].shift(3)\n",
        "        df['pm2.5_trend_6h'] = df['pm2.5'] - df['pm2.5'].shift(6)\n",
        "\n",
        "    # Weather lag features (for both train and test)\n",
        "    weather_cols = ['TEMP', 'DEWP', 'PRES', 'Iws']\n",
        "    for col in weather_cols:\n",
        "        if col in df.columns:\n",
        "            for lag in [1, 3, 6]:\n",
        "                df[f'{col}_lag_{lag}'] = df[col].shift(lag)\n",
        "\n",
        "    # Drop original datetime columns (keep engineered features)\n",
        "    df = df.drop(['datetime', 'hour', 'day_of_week', 'month', 'day_of_year'], axis=1, errors='ignore')\n",
        "\n",
        "    return df\n",
        "\n",
        "# Apply advanced feature engineering\n",
        "print(\" Creating advanced features...\")\n",
        "train_enhanced = create_advanced_features(train_filled, is_training=True)\n",
        "test_enhanced = create_advanced_features(test_filled, is_training=False)\n",
        "\n",
        "print(f\"Enhanced features - Train: {train_enhanced.shape}, Test: {test_enhanced.shape}\")\n",
        "\n",
        "# Handle remaining NaN values from lag features\n",
        "train_enhanced = train_enhanced.ffill().bfill().fillna(0)\n",
        "test_enhanced = test_enhanced.ffill().bfill().fillna(0)\n",
        "\n",
        "print(f\"After NaN handling - Train: {train_enhanced.shape}, Test: {test_enhanced.shape}\")"
      ],
      "metadata": {
        "colab": {
          "base_uri": "https://localhost:8080/"
        },
        "id": "t3keQOfwuxBx",
        "outputId": "ea9efc8f-936c-4b20-f22f-4003efa32151"
      },
      "execution_count": 7,
      "outputs": [
        {
          "output_type": "stream",
          "name": "stdout",
          "text": [
            "Missing values handled - Train: 0, Test: 0\n",
            " Creating advanced features...\n",
            "Enhanced features - Train: (30676, 60), Test: (13148, 35)\n",
            "After NaN handling - Train: (30676, 60), Test: (13148, 35)\n"
          ]
        }
      ]
    },
    {
      "cell_type": "markdown",
      "source": [
        "### SECTION 4: FEATURE SELECTION"
      ],
      "metadata": {
        "id": "N_z51tuHvSD3"
      }
    },
    {
      "cell_type": "code",
      "source": [
        "# Prepare features and target\n",
        "X_train = train_enhanced.drop(['pm2.5', 'No'], axis=1, errors='ignore')\n",
        "y_train = train_enhanced['pm2.5']\n",
        "X_test = test_enhanced.drop(['No'], axis=1, errors='ignore')\n",
        "\n",
        "# Ensure both have the same columns\n",
        "common_cols = list(set(X_train.columns) & set(X_test.columns))\n",
        "X_train = X_train[common_cols]\n",
        "X_test = X_test[common_cols]\n",
        "\n",
        "print(f\"Using {len(common_cols)} common features\")\n",
        "\n",
        "# Feature selection using SelectKBest\n",
        "selector = SelectKBest(score_func=f_regression, k=min(30, len(common_cols)))\n",
        "X_train_selected = selector.fit_transform(X_train, y_train)\n",
        "selected_mask = selector.get_support()\n",
        "selected_features = X_train.columns[selected_mask]\n",
        "\n",
        "X_train = X_train[selected_features]\n",
        "X_test = X_test[selected_features]\n",
        "\n",
        "print(f\"Selected {len(selected_features)} best features:\")\n",
        "print(selected_features.tolist())\n",
        "\n",
        "# Scale the features using RobustScaler (better for outliers)\n",
        "scaler = RobustScaler()\n",
        "X_train_scaled = scaler.fit_transform(X_train)\n",
        "X_test_scaled = scaler.transform(X_test)\n",
        "\n",
        "print(\"Features scaled using RobustScaler\")"
      ],
      "metadata": {
        "colab": {
          "base_uri": "https://localhost:8080/"
        },
        "id": "3IOzzuIHvXF2",
        "outputId": "9d8b8096-1486-43d1-c280-67f57edeee11"
      },
      "execution_count": 9,
      "outputs": [
        {
          "output_type": "stream",
          "name": "stdout",
          "text": [
            "Using 34 common features\n",
            "Selected 30 best features:\n",
            "['PRES_lag_1', 'DEWP', 'temp_pressure', 'Iws', 'wind_pressure', 'DEWP_lag_6', 'is_night', 'temp_dew_diff', 'Ir', 'humidity_index', 'TEMP', 'month_sin', 'PRES', 'DEWP_lag_3', 'hour_cos', 'index', 'TEMP_lag_3', 'cbwd_NW', 'cbwd_SE', 'month_cos', 'TEMP_lag_1', 'Is', 'cbwd_cv', 'DEWP_lag_1', 'Iws_lag_1', 'PRES_lag_3', 'PRES_lag_6', 'Iws_lag_3', 'hour_sin', 'Iws_lag_6']\n",
            "Features scaled using RobustScaler\n"
          ]
        }
      ]
    },
    {
      "cell_type": "markdown",
      "source": [
        "### SECTION 5: MODEL BUILDING"
      ],
      "metadata": {
        "id": "DWJELqIQvpDp"
      }
    },
    {
      "cell_type": "code",
      "source": [
        "print(\"\\n\" + \"=\"*50)\n",
        "print(\"MODEL BUILDING - ENHANCED ARCHITECTURE\")\n",
        "print(\"=\"*50)\n",
        "\n",
        "# Create sequences for LSTM\n",
        "def create_sequences(X, y, time_steps=48):  # Increased sequence length\n",
        "    Xs, ys = [], []\n",
        "    for i in range(len(X) - time_steps):\n",
        "        Xs.append(X[i:(i + time_steps)])\n",
        "        ys.append(y[i + time_steps])\n",
        "    return np.array(Xs), np.array(ys)\n",
        "\n",
        "TIME_STEPS = 48  # Longer sequence for better temporal patterns\n",
        "X_seq, y_seq = create_sequences(X_train_scaled, y_train.values, TIME_STEPS)\n",
        "\n",
        "print(f\"✅ Sequential data shape: {X_seq.shape}\")\n",
        "\n",
        "# Split data into train and validation sets\n",
        "split_idx = int(0.8 * len(X_seq))\n",
        "X_train_seq, X_val_seq = X_seq[:split_idx], X_seq[split_idx:]\n",
        "y_train_seq, y_val_seq = y_seq[:split_idx], y_seq[split_idx:]\n",
        "\n",
        "print(f\"Training sequences: {X_train_seq.shape}\")\n",
        "print(f\"Validation sequences: {X_val_seq.shape}\")\n",
        "\n",
        "# Create Enhanced Bidirectional LSTM model\n",
        "def create_enhanced_model(input_shape):\n",
        "    model = Sequential([\n",
        "        Bidirectional(LSTM(128, activation='tanh', return_sequences=True), input_shape=input_shape),\n",
        "        Dropout(0.3),\n",
        "        Bidirectional(LSTM(64, activation='tanh', return_sequences=True)),\n",
        "        Dropout(0.3),\n",
        "        Bidirectional(LSTM(32, activation='relu')),\n",
        "        Dropout(0.2),\n",
        "        Dense(64, activation='relu'),\n",
        "        Dropout(0.2),\n",
        "        Dense(32, activation='relu'),\n",
        "        Dense(1)\n",
        "    ])\n",
        "    model.compile(optimizer=Adam(learning_rate=0.001),\n",
        "                 loss='mse',\n",
        "                 metrics=['mae'])\n",
        "    return model\n",
        "\n",
        "model = create_enhanced_model((X_train_seq.shape[1], X_train_seq.shape[2]))\n",
        "\n",
        "# Enhanced callbacks\n",
        "early_stopping = EarlyStopping(monitor='val_loss', patience=10, restore_best_weights=True, min_delta=0.001)\n",
        "reduce_lr = ReduceLROnPlateau(monitor='val_loss', factor=0.5, patience=5, min_lr=0.00001)\n",
        "\n",
        "print(\"Enhanced model architecture created:\")\n",
        "model.summary()"
      ],
      "metadata": {
        "colab": {
          "base_uri": "https://localhost:8080/",
          "height": 595
        },
        "id": "Zg62YNPVvrEG",
        "outputId": "c28163a7-0d2e-4f15-c2be-d8302308bed8"
      },
      "execution_count": 10,
      "outputs": [
        {
          "output_type": "stream",
          "name": "stdout",
          "text": [
            "\n",
            "==================================================\n",
            "MODEL BUILDING - ENHANCED ARCHITECTURE\n",
            "==================================================\n",
            "✅ Sequential data shape: (30628, 48, 30)\n",
            "Training sequences: (24502, 48, 30)\n",
            "Validation sequences: (6126, 48, 30)\n",
            "Enhanced model architecture created:\n"
          ]
        },
        {
          "output_type": "display_data",
          "data": {
            "text/plain": [
              "\u001b[1mModel: \"sequential\"\u001b[0m\n"
            ],
            "text/html": [
              "<pre style=\"white-space:pre;overflow-x:auto;line-height:normal;font-family:Menlo,'DejaVu Sans Mono',consolas,'Courier New',monospace\"><span style=\"font-weight: bold\">Model: \"sequential\"</span>\n",
              "</pre>\n"
            ]
          },
          "metadata": {}
        },
        {
          "output_type": "display_data",
          "data": {
            "text/plain": [
              "┏━━━━━━━━━━━━━━━━━━━━━━━━━━━━━━━━━┳━━━━━━━━━━━━━━━━━━━━━━━━┳━━━━━━━━━━━━━━━┓\n",
              "┃\u001b[1m \u001b[0m\u001b[1mLayer (type)                   \u001b[0m\u001b[1m \u001b[0m┃\u001b[1m \u001b[0m\u001b[1mOutput Shape          \u001b[0m\u001b[1m \u001b[0m┃\u001b[1m \u001b[0m\u001b[1m      Param #\u001b[0m\u001b[1m \u001b[0m┃\n",
              "┡━━━━━━━━━━━━━━━━━━━━━━━━━━━━━━━━━╇━━━━━━━━━━━━━━━━━━━━━━━━╇━━━━━━━━━━━━━━━┩\n",
              "│ bidirectional (\u001b[38;5;33mBidirectional\u001b[0m)   │ (\u001b[38;5;45mNone\u001b[0m, \u001b[38;5;34m48\u001b[0m, \u001b[38;5;34m256\u001b[0m)        │       \u001b[38;5;34m162,816\u001b[0m │\n",
              "├─────────────────────────────────┼────────────────────────┼───────────────┤\n",
              "│ dropout (\u001b[38;5;33mDropout\u001b[0m)               │ (\u001b[38;5;45mNone\u001b[0m, \u001b[38;5;34m48\u001b[0m, \u001b[38;5;34m256\u001b[0m)        │             \u001b[38;5;34m0\u001b[0m │\n",
              "├─────────────────────────────────┼────────────────────────┼───────────────┤\n",
              "│ bidirectional_1 (\u001b[38;5;33mBidirectional\u001b[0m) │ (\u001b[38;5;45mNone\u001b[0m, \u001b[38;5;34m48\u001b[0m, \u001b[38;5;34m128\u001b[0m)        │       \u001b[38;5;34m164,352\u001b[0m │\n",
              "├─────────────────────────────────┼────────────────────────┼───────────────┤\n",
              "│ dropout_1 (\u001b[38;5;33mDropout\u001b[0m)             │ (\u001b[38;5;45mNone\u001b[0m, \u001b[38;5;34m48\u001b[0m, \u001b[38;5;34m128\u001b[0m)        │             \u001b[38;5;34m0\u001b[0m │\n",
              "├─────────────────────────────────┼────────────────────────┼───────────────┤\n",
              "│ bidirectional_2 (\u001b[38;5;33mBidirectional\u001b[0m) │ (\u001b[38;5;45mNone\u001b[0m, \u001b[38;5;34m64\u001b[0m)             │        \u001b[38;5;34m41,216\u001b[0m │\n",
              "├─────────────────────────────────┼────────────────────────┼───────────────┤\n",
              "│ dropout_2 (\u001b[38;5;33mDropout\u001b[0m)             │ (\u001b[38;5;45mNone\u001b[0m, \u001b[38;5;34m64\u001b[0m)             │             \u001b[38;5;34m0\u001b[0m │\n",
              "├─────────────────────────────────┼────────────────────────┼───────────────┤\n",
              "│ dense (\u001b[38;5;33mDense\u001b[0m)                   │ (\u001b[38;5;45mNone\u001b[0m, \u001b[38;5;34m64\u001b[0m)             │         \u001b[38;5;34m4,160\u001b[0m │\n",
              "├─────────────────────────────────┼────────────────────────┼───────────────┤\n",
              "│ dropout_3 (\u001b[38;5;33mDropout\u001b[0m)             │ (\u001b[38;5;45mNone\u001b[0m, \u001b[38;5;34m64\u001b[0m)             │             \u001b[38;5;34m0\u001b[0m │\n",
              "├─────────────────────────────────┼────────────────────────┼───────────────┤\n",
              "│ dense_1 (\u001b[38;5;33mDense\u001b[0m)                 │ (\u001b[38;5;45mNone\u001b[0m, \u001b[38;5;34m32\u001b[0m)             │         \u001b[38;5;34m2,080\u001b[0m │\n",
              "├─────────────────────────────────┼────────────────────────┼───────────────┤\n",
              "│ dense_2 (\u001b[38;5;33mDense\u001b[0m)                 │ (\u001b[38;5;45mNone\u001b[0m, \u001b[38;5;34m1\u001b[0m)              │            \u001b[38;5;34m33\u001b[0m │\n",
              "└─────────────────────────────────┴────────────────────────┴───────────────┘\n"
            ],
            "text/html": [
              "<pre style=\"white-space:pre;overflow-x:auto;line-height:normal;font-family:Menlo,'DejaVu Sans Mono',consolas,'Courier New',monospace\">┏━━━━━━━━━━━━━━━━━━━━━━━━━━━━━━━━━┳━━━━━━━━━━━━━━━━━━━━━━━━┳━━━━━━━━━━━━━━━┓\n",
              "┃<span style=\"font-weight: bold\"> Layer (type)                    </span>┃<span style=\"font-weight: bold\"> Output Shape           </span>┃<span style=\"font-weight: bold\">       Param # </span>┃\n",
              "┡━━━━━━━━━━━━━━━━━━━━━━━━━━━━━━━━━╇━━━━━━━━━━━━━━━━━━━━━━━━╇━━━━━━━━━━━━━━━┩\n",
              "│ bidirectional (<span style=\"color: #0087ff; text-decoration-color: #0087ff\">Bidirectional</span>)   │ (<span style=\"color: #00d7ff; text-decoration-color: #00d7ff\">None</span>, <span style=\"color: #00af00; text-decoration-color: #00af00\">48</span>, <span style=\"color: #00af00; text-decoration-color: #00af00\">256</span>)        │       <span style=\"color: #00af00; text-decoration-color: #00af00\">162,816</span> │\n",
              "├─────────────────────────────────┼────────────────────────┼───────────────┤\n",
              "│ dropout (<span style=\"color: #0087ff; text-decoration-color: #0087ff\">Dropout</span>)               │ (<span style=\"color: #00d7ff; text-decoration-color: #00d7ff\">None</span>, <span style=\"color: #00af00; text-decoration-color: #00af00\">48</span>, <span style=\"color: #00af00; text-decoration-color: #00af00\">256</span>)        │             <span style=\"color: #00af00; text-decoration-color: #00af00\">0</span> │\n",
              "├─────────────────────────────────┼────────────────────────┼───────────────┤\n",
              "│ bidirectional_1 (<span style=\"color: #0087ff; text-decoration-color: #0087ff\">Bidirectional</span>) │ (<span style=\"color: #00d7ff; text-decoration-color: #00d7ff\">None</span>, <span style=\"color: #00af00; text-decoration-color: #00af00\">48</span>, <span style=\"color: #00af00; text-decoration-color: #00af00\">128</span>)        │       <span style=\"color: #00af00; text-decoration-color: #00af00\">164,352</span> │\n",
              "├─────────────────────────────────┼────────────────────────┼───────────────┤\n",
              "│ dropout_1 (<span style=\"color: #0087ff; text-decoration-color: #0087ff\">Dropout</span>)             │ (<span style=\"color: #00d7ff; text-decoration-color: #00d7ff\">None</span>, <span style=\"color: #00af00; text-decoration-color: #00af00\">48</span>, <span style=\"color: #00af00; text-decoration-color: #00af00\">128</span>)        │             <span style=\"color: #00af00; text-decoration-color: #00af00\">0</span> │\n",
              "├─────────────────────────────────┼────────────────────────┼───────────────┤\n",
              "│ bidirectional_2 (<span style=\"color: #0087ff; text-decoration-color: #0087ff\">Bidirectional</span>) │ (<span style=\"color: #00d7ff; text-decoration-color: #00d7ff\">None</span>, <span style=\"color: #00af00; text-decoration-color: #00af00\">64</span>)             │        <span style=\"color: #00af00; text-decoration-color: #00af00\">41,216</span> │\n",
              "├─────────────────────────────────┼────────────────────────┼───────────────┤\n",
              "│ dropout_2 (<span style=\"color: #0087ff; text-decoration-color: #0087ff\">Dropout</span>)             │ (<span style=\"color: #00d7ff; text-decoration-color: #00d7ff\">None</span>, <span style=\"color: #00af00; text-decoration-color: #00af00\">64</span>)             │             <span style=\"color: #00af00; text-decoration-color: #00af00\">0</span> │\n",
              "├─────────────────────────────────┼────────────────────────┼───────────────┤\n",
              "│ dense (<span style=\"color: #0087ff; text-decoration-color: #0087ff\">Dense</span>)                   │ (<span style=\"color: #00d7ff; text-decoration-color: #00d7ff\">None</span>, <span style=\"color: #00af00; text-decoration-color: #00af00\">64</span>)             │         <span style=\"color: #00af00; text-decoration-color: #00af00\">4,160</span> │\n",
              "├─────────────────────────────────┼────────────────────────┼───────────────┤\n",
              "│ dropout_3 (<span style=\"color: #0087ff; text-decoration-color: #0087ff\">Dropout</span>)             │ (<span style=\"color: #00d7ff; text-decoration-color: #00d7ff\">None</span>, <span style=\"color: #00af00; text-decoration-color: #00af00\">64</span>)             │             <span style=\"color: #00af00; text-decoration-color: #00af00\">0</span> │\n",
              "├─────────────────────────────────┼────────────────────────┼───────────────┤\n",
              "│ dense_1 (<span style=\"color: #0087ff; text-decoration-color: #0087ff\">Dense</span>)                 │ (<span style=\"color: #00d7ff; text-decoration-color: #00d7ff\">None</span>, <span style=\"color: #00af00; text-decoration-color: #00af00\">32</span>)             │         <span style=\"color: #00af00; text-decoration-color: #00af00\">2,080</span> │\n",
              "├─────────────────────────────────┼────────────────────────┼───────────────┤\n",
              "│ dense_2 (<span style=\"color: #0087ff; text-decoration-color: #0087ff\">Dense</span>)                 │ (<span style=\"color: #00d7ff; text-decoration-color: #00d7ff\">None</span>, <span style=\"color: #00af00; text-decoration-color: #00af00\">1</span>)              │            <span style=\"color: #00af00; text-decoration-color: #00af00\">33</span> │\n",
              "└─────────────────────────────────┴────────────────────────┴───────────────┘\n",
              "</pre>\n"
            ]
          },
          "metadata": {}
        },
        {
          "output_type": "display_data",
          "data": {
            "text/plain": [
              "\u001b[1m Total params: \u001b[0m\u001b[38;5;34m374,657\u001b[0m (1.43 MB)\n"
            ],
            "text/html": [
              "<pre style=\"white-space:pre;overflow-x:auto;line-height:normal;font-family:Menlo,'DejaVu Sans Mono',consolas,'Courier New',monospace\"><span style=\"font-weight: bold\"> Total params: </span><span style=\"color: #00af00; text-decoration-color: #00af00\">374,657</span> (1.43 MB)\n",
              "</pre>\n"
            ]
          },
          "metadata": {}
        },
        {
          "output_type": "display_data",
          "data": {
            "text/plain": [
              "\u001b[1m Trainable params: \u001b[0m\u001b[38;5;34m374,657\u001b[0m (1.43 MB)\n"
            ],
            "text/html": [
              "<pre style=\"white-space:pre;overflow-x:auto;line-height:normal;font-family:Menlo,'DejaVu Sans Mono',consolas,'Courier New',monospace\"><span style=\"font-weight: bold\"> Trainable params: </span><span style=\"color: #00af00; text-decoration-color: #00af00\">374,657</span> (1.43 MB)\n",
              "</pre>\n"
            ]
          },
          "metadata": {}
        },
        {
          "output_type": "display_data",
          "data": {
            "text/plain": [
              "\u001b[1m Non-trainable params: \u001b[0m\u001b[38;5;34m0\u001b[0m (0.00 B)\n"
            ],
            "text/html": [
              "<pre style=\"white-space:pre;overflow-x:auto;line-height:normal;font-family:Menlo,'DejaVu Sans Mono',consolas,'Courier New',monospace\"><span style=\"font-weight: bold\"> Non-trainable params: </span><span style=\"color: #00af00; text-decoration-color: #00af00\">0</span> (0.00 B)\n",
              "</pre>\n"
            ]
          },
          "metadata": {}
        }
      ]
    },
    {
      "cell_type": "markdown",
      "source": [
        "### SECTION 6: MODEL TRAINING"
      ],
      "metadata": {
        "id": "O99YoqLjwEcc"
      }
    },
    {
      "cell_type": "code",
      "source": [
        "# ==================== SECTION 6: OPTIMIZED MODEL TRAINING ====================\n",
        "print(\"\\n\" + \"=\"*50)\n",
        "print(\"OPTIMIZED MODEL TRAINING\")\n",
        "print(\"=\"*50)\n",
        "\n",
        "# Reduce sequence length for faster training\n",
        "TIME_STEPS = 24  # Reduced from 48 to 24\n",
        "X_seq, y_seq = create_sequences(X_train_scaled, y_train.values, TIME_STEPS)\n",
        "\n",
        "# Split data\n",
        "split_idx = int(0.8 * len(X_seq))\n",
        "X_train_seq, X_val_seq = X_seq[:split_idx], X_seq[split_idx:]\n",
        "y_train_seq, y_val_seq = y_seq[:split_idx], y_seq[split_idx:]\n",
        "\n",
        "print(f\"✅ Optimized sequences - Train: {X_train_seq.shape}, Val: {X_val_seq.shape}\")\n",
        "\n",
        "# Create optimized model architecture\n",
        "def create_optimized_model(input_shape):\n",
        "    model = Sequential([\n",
        "        Bidirectional(LSTM(64, activation='tanh', return_sequences=True), input_shape=input_shape),\n",
        "        Dropout(0.2),\n",
        "        Bidirectional(LSTM(32, activation='relu')),\n",
        "        Dropout(0.2),\n",
        "        Dense(1)  # Simplified output\n",
        "    ])\n",
        "    model.compile(optimizer=Adam(learning_rate=0.001),\n",
        "                 loss='mse',\n",
        "                 metrics=['mae'])\n",
        "    return model\n",
        "\n",
        "model = create_optimized_model((X_train_seq.shape[1], X_train_seq.shape[2]))\n",
        "\n",
        "# Optimized callbacks\n",
        "early_stopping = EarlyStopping(monitor='val_loss', patience=8, restore_best_weights=True)\n",
        "reduce_lr = ReduceLROnPlateau(monitor='val_loss', factor=0.5, patience=4, min_lr=0.0001)\n",
        "\n",
        "print(\"✅ Optimized model architecture created:\")\n",
        "model.summary()\n",
        "\n",
        "# Train with optimized settings\n",
        "history = model.fit(\n",
        "    X_train_seq, y_train_seq,\n",
        "    validation_data=(X_val_seq, y_val_seq),\n",
        "    epochs=30,  # Fewer epochs\n",
        "    batch_size=128,  # Larger batch size (4x faster)\n",
        "    callbacks=[early_stopping, reduce_lr],\n",
        "    verbose=1\n",
        ")\n",
        "\n",
        "# Evaluate model\n",
        "val_pred = model.predict(X_val_seq, verbose=0, batch_size=128)\n",
        "val_rmse = np.sqrt(mean_squared_error(y_val_seq, val_pred))\n",
        "val_mae = np.mean(np.abs(y_val_seq - val_pred.flatten()))\n",
        "\n",
        "print(f\"\\n📊 Model Performance:\")\n",
        "print(f\"Validation RMSE: {val_rmse:.2f}\")\n",
        "print(f\"Validation MAE: {val_mae:.2f}\")\n",
        "\n",
        "# Plot training history\n",
        "plt.figure(figsize=(12, 4))\n",
        "plt.subplot(1, 2, 1)\n",
        "plt.plot(history.history['loss'], label='Training Loss')\n",
        "plt.plot(history.history['val_loss'], label='Validation Loss')\n",
        "plt.title('Model Loss')\n",
        "plt.xlabel('Epochs')\n",
        "plt.ylabel('Loss')\n",
        "plt.legend()\n",
        "\n",
        "plt.subplot(1, 2, 2)\n",
        "plt.plot(history.history['mae'], label='Training MAE')\n",
        "plt.plot(history.history['val_mae'], label='Validation MAE')\n",
        "plt.title('Model MAE')\n",
        "plt.xlabel('Epochs')\n",
        "plt.ylabel('MAE')\n",
        "plt.legend()\n",
        "\n",
        "plt.tight_layout()\n",
        "plt.show()"
      ],
      "metadata": {
        "colab": {
          "base_uri": "https://localhost:8080/",
          "height": 1000
        },
        "id": "Q_pLYIi073KW",
        "outputId": "da2da1cf-d3ac-45f7-890e-81d6d87d2f7a"
      },
      "execution_count": 13,
      "outputs": [
        {
          "output_type": "stream",
          "name": "stdout",
          "text": [
            "\n",
            "==================================================\n",
            "OPTIMIZED MODEL TRAINING\n",
            "==================================================\n",
            "✅ Optimized sequences - Train: (24521, 24, 30), Val: (6131, 24, 30)\n",
            "✅ Optimized model architecture created:\n"
          ]
        },
        {
          "output_type": "display_data",
          "data": {
            "text/plain": [
              "\u001b[1mModel: \"sequential_2\"\u001b[0m\n"
            ],
            "text/html": [
              "<pre style=\"white-space:pre;overflow-x:auto;line-height:normal;font-family:Menlo,'DejaVu Sans Mono',consolas,'Courier New',monospace\"><span style=\"font-weight: bold\">Model: \"sequential_2\"</span>\n",
              "</pre>\n"
            ]
          },
          "metadata": {}
        },
        {
          "output_type": "display_data",
          "data": {
            "text/plain": [
              "┏━━━━━━━━━━━━━━━━━━━━━━━━━━━━━━━━━┳━━━━━━━━━━━━━━━━━━━━━━━━┳━━━━━━━━━━━━━━━┓\n",
              "┃\u001b[1m \u001b[0m\u001b[1mLayer (type)                   \u001b[0m\u001b[1m \u001b[0m┃\u001b[1m \u001b[0m\u001b[1mOutput Shape          \u001b[0m\u001b[1m \u001b[0m┃\u001b[1m \u001b[0m\u001b[1m      Param #\u001b[0m\u001b[1m \u001b[0m┃\n",
              "┡━━━━━━━━━━━━━━━━━━━━━━━━━━━━━━━━━╇━━━━━━━━━━━━━━━━━━━━━━━━╇━━━━━━━━━━━━━━━┩\n",
              "│ bidirectional_5 (\u001b[38;5;33mBidirectional\u001b[0m) │ (\u001b[38;5;45mNone\u001b[0m, \u001b[38;5;34m24\u001b[0m, \u001b[38;5;34m128\u001b[0m)        │        \u001b[38;5;34m48,640\u001b[0m │\n",
              "├─────────────────────────────────┼────────────────────────┼───────────────┤\n",
              "│ dropout_6 (\u001b[38;5;33mDropout\u001b[0m)             │ (\u001b[38;5;45mNone\u001b[0m, \u001b[38;5;34m24\u001b[0m, \u001b[38;5;34m128\u001b[0m)        │             \u001b[38;5;34m0\u001b[0m │\n",
              "├─────────────────────────────────┼────────────────────────┼───────────────┤\n",
              "│ bidirectional_6 (\u001b[38;5;33mBidirectional\u001b[0m) │ (\u001b[38;5;45mNone\u001b[0m, \u001b[38;5;34m64\u001b[0m)             │        \u001b[38;5;34m41,216\u001b[0m │\n",
              "├─────────────────────────────────┼────────────────────────┼───────────────┤\n",
              "│ dropout_7 (\u001b[38;5;33mDropout\u001b[0m)             │ (\u001b[38;5;45mNone\u001b[0m, \u001b[38;5;34m64\u001b[0m)             │             \u001b[38;5;34m0\u001b[0m │\n",
              "├─────────────────────────────────┼────────────────────────┼───────────────┤\n",
              "│ dense_4 (\u001b[38;5;33mDense\u001b[0m)                 │ (\u001b[38;5;45mNone\u001b[0m, \u001b[38;5;34m1\u001b[0m)              │            \u001b[38;5;34m65\u001b[0m │\n",
              "└─────────────────────────────────┴────────────────────────┴───────────────┘\n"
            ],
            "text/html": [
              "<pre style=\"white-space:pre;overflow-x:auto;line-height:normal;font-family:Menlo,'DejaVu Sans Mono',consolas,'Courier New',monospace\">┏━━━━━━━━━━━━━━━━━━━━━━━━━━━━━━━━━┳━━━━━━━━━━━━━━━━━━━━━━━━┳━━━━━━━━━━━━━━━┓\n",
              "┃<span style=\"font-weight: bold\"> Layer (type)                    </span>┃<span style=\"font-weight: bold\"> Output Shape           </span>┃<span style=\"font-weight: bold\">       Param # </span>┃\n",
              "┡━━━━━━━━━━━━━━━━━━━━━━━━━━━━━━━━━╇━━━━━━━━━━━━━━━━━━━━━━━━╇━━━━━━━━━━━━━━━┩\n",
              "│ bidirectional_5 (<span style=\"color: #0087ff; text-decoration-color: #0087ff\">Bidirectional</span>) │ (<span style=\"color: #00d7ff; text-decoration-color: #00d7ff\">None</span>, <span style=\"color: #00af00; text-decoration-color: #00af00\">24</span>, <span style=\"color: #00af00; text-decoration-color: #00af00\">128</span>)        │        <span style=\"color: #00af00; text-decoration-color: #00af00\">48,640</span> │\n",
              "├─────────────────────────────────┼────────────────────────┼───────────────┤\n",
              "│ dropout_6 (<span style=\"color: #0087ff; text-decoration-color: #0087ff\">Dropout</span>)             │ (<span style=\"color: #00d7ff; text-decoration-color: #00d7ff\">None</span>, <span style=\"color: #00af00; text-decoration-color: #00af00\">24</span>, <span style=\"color: #00af00; text-decoration-color: #00af00\">128</span>)        │             <span style=\"color: #00af00; text-decoration-color: #00af00\">0</span> │\n",
              "├─────────────────────────────────┼────────────────────────┼───────────────┤\n",
              "│ bidirectional_6 (<span style=\"color: #0087ff; text-decoration-color: #0087ff\">Bidirectional</span>) │ (<span style=\"color: #00d7ff; text-decoration-color: #00d7ff\">None</span>, <span style=\"color: #00af00; text-decoration-color: #00af00\">64</span>)             │        <span style=\"color: #00af00; text-decoration-color: #00af00\">41,216</span> │\n",
              "├─────────────────────────────────┼────────────────────────┼───────────────┤\n",
              "│ dropout_7 (<span style=\"color: #0087ff; text-decoration-color: #0087ff\">Dropout</span>)             │ (<span style=\"color: #00d7ff; text-decoration-color: #00d7ff\">None</span>, <span style=\"color: #00af00; text-decoration-color: #00af00\">64</span>)             │             <span style=\"color: #00af00; text-decoration-color: #00af00\">0</span> │\n",
              "├─────────────────────────────────┼────────────────────────┼───────────────┤\n",
              "│ dense_4 (<span style=\"color: #0087ff; text-decoration-color: #0087ff\">Dense</span>)                 │ (<span style=\"color: #00d7ff; text-decoration-color: #00d7ff\">None</span>, <span style=\"color: #00af00; text-decoration-color: #00af00\">1</span>)              │            <span style=\"color: #00af00; text-decoration-color: #00af00\">65</span> │\n",
              "└─────────────────────────────────┴────────────────────────┴───────────────┘\n",
              "</pre>\n"
            ]
          },
          "metadata": {}
        },
        {
          "output_type": "display_data",
          "data": {
            "text/plain": [
              "\u001b[1m Total params: \u001b[0m\u001b[38;5;34m89,921\u001b[0m (351.25 KB)\n"
            ],
            "text/html": [
              "<pre style=\"white-space:pre;overflow-x:auto;line-height:normal;font-family:Menlo,'DejaVu Sans Mono',consolas,'Courier New',monospace\"><span style=\"font-weight: bold\"> Total params: </span><span style=\"color: #00af00; text-decoration-color: #00af00\">89,921</span> (351.25 KB)\n",
              "</pre>\n"
            ]
          },
          "metadata": {}
        },
        {
          "output_type": "display_data",
          "data": {
            "text/plain": [
              "\u001b[1m Trainable params: \u001b[0m\u001b[38;5;34m89,921\u001b[0m (351.25 KB)\n"
            ],
            "text/html": [
              "<pre style=\"white-space:pre;overflow-x:auto;line-height:normal;font-family:Menlo,'DejaVu Sans Mono',consolas,'Courier New',monospace\"><span style=\"font-weight: bold\"> Trainable params: </span><span style=\"color: #00af00; text-decoration-color: #00af00\">89,921</span> (351.25 KB)\n",
              "</pre>\n"
            ]
          },
          "metadata": {}
        },
        {
          "output_type": "display_data",
          "data": {
            "text/plain": [
              "\u001b[1m Non-trainable params: \u001b[0m\u001b[38;5;34m0\u001b[0m (0.00 B)\n"
            ],
            "text/html": [
              "<pre style=\"white-space:pre;overflow-x:auto;line-height:normal;font-family:Menlo,'DejaVu Sans Mono',consolas,'Courier New',monospace\"><span style=\"font-weight: bold\"> Non-trainable params: </span><span style=\"color: #00af00; text-decoration-color: #00af00\">0</span> (0.00 B)\n",
              "</pre>\n"
            ]
          },
          "metadata": {}
        },
        {
          "output_type": "stream",
          "name": "stdout",
          "text": [
            "Epoch 1/30\n",
            "\u001b[1m192/192\u001b[0m \u001b[32m━━━━━━━━━━━━━━━━━━━━\u001b[0m\u001b[37m\u001b[0m \u001b[1m35s\u001b[0m 150ms/step - loss: 9983.8066 - mae: 69.1170 - val_loss: 7909.2266 - val_mae: 56.9077 - learning_rate: 0.0010\n",
            "Epoch 2/30\n",
            "\u001b[1m192/192\u001b[0m \u001b[32m━━━━━━━━━━━━━━━━━━━━\u001b[0m\u001b[37m\u001b[0m \u001b[1m27s\u001b[0m 141ms/step - loss: 5510.8193 - mae: 49.8459 - val_loss: 6288.6265 - val_mae: 51.2002 - learning_rate: 0.0010\n",
            "Epoch 3/30\n",
            "\u001b[1m192/192\u001b[0m \u001b[32m━━━━━━━━━━━━━━━━━━━━\u001b[0m\u001b[37m\u001b[0m \u001b[1m42s\u001b[0m 145ms/step - loss: 3839.9243 - mae: 41.8628 - val_loss: 6249.6685 - val_mae: 50.7420 - learning_rate: 0.0010\n",
            "Epoch 4/30\n",
            "\u001b[1m192/192\u001b[0m \u001b[32m━━━━━━━━━━━━━━━━━━━━\u001b[0m\u001b[37m\u001b[0m \u001b[1m28s\u001b[0m 144ms/step - loss: 3472.8904 - mae: 39.7962 - val_loss: 6123.7266 - val_mae: 49.4355 - learning_rate: 0.0010\n",
            "Epoch 5/30\n",
            "\u001b[1m192/192\u001b[0m \u001b[32m━━━━━━━━━━━━━━━━━━━━\u001b[0m\u001b[37m\u001b[0m \u001b[1m41s\u001b[0m 144ms/step - loss: 3157.0371 - mae: 38.0027 - val_loss: 5883.8506 - val_mae: 49.6174 - learning_rate: 0.0010\n",
            "Epoch 6/30\n",
            "\u001b[1m192/192\u001b[0m \u001b[32m━━━━━━━━━━━━━━━━━━━━\u001b[0m\u001b[37m\u001b[0m \u001b[1m40s\u001b[0m 138ms/step - loss: 3107.5261 - mae: 37.7148 - val_loss: 5927.2642 - val_mae: 50.6897 - learning_rate: 0.0010\n",
            "Epoch 7/30\n",
            "\u001b[1m192/192\u001b[0m \u001b[32m━━━━━━━━━━━━━━━━━━━━\u001b[0m\u001b[37m\u001b[0m \u001b[1m42s\u001b[0m 141ms/step - loss: 3560.2351 - mae: 40.0903 - val_loss: 7798.9810 - val_mae: 55.6520 - learning_rate: 0.0010\n",
            "Epoch 8/30\n",
            "\u001b[1m192/192\u001b[0m \u001b[32m━━━━━━━━━━━━━━━━━━━━\u001b[0m\u001b[37m\u001b[0m \u001b[1m40s\u001b[0m 138ms/step - loss: 4257.0259 - mae: 43.8991 - val_loss: 6779.4932 - val_mae: 51.3715 - learning_rate: 0.0010\n",
            "Epoch 9/30\n",
            "\u001b[1m192/192\u001b[0m \u001b[32m━━━━━━━━━━━━━━━━━━━━\u001b[0m\u001b[37m\u001b[0m \u001b[1m25s\u001b[0m 129ms/step - loss: 3635.7605 - mae: 40.6375 - val_loss: 6402.8970 - val_mae: 51.3406 - learning_rate: 0.0010\n",
            "Epoch 10/30\n",
            "\u001b[1m192/192\u001b[0m \u001b[32m━━━━━━━━━━━━━━━━━━━━\u001b[0m\u001b[37m\u001b[0m \u001b[1m45s\u001b[0m 150ms/step - loss: 3597.4375 - mae: 40.2192 - val_loss: 5935.8525 - val_mae: 51.0532 - learning_rate: 5.0000e-04\n",
            "Epoch 11/30\n",
            "\u001b[1m192/192\u001b[0m \u001b[32m━━━━━━━━━━━━━━━━━━━━\u001b[0m\u001b[37m\u001b[0m \u001b[1m40s\u001b[0m 147ms/step - loss: 3415.2869 - mae: 39.6442 - val_loss: 6086.1680 - val_mae: 52.0269 - learning_rate: 5.0000e-04\n",
            "Epoch 12/30\n",
            "\u001b[1m192/192\u001b[0m \u001b[32m━━━━━━━━━━━━━━━━━━━━\u001b[0m\u001b[37m\u001b[0m \u001b[1m28s\u001b[0m 146ms/step - loss: 3386.5298 - mae: 39.1326 - val_loss: 5837.6704 - val_mae: 50.5812 - learning_rate: 5.0000e-04\n",
            "Epoch 13/30\n",
            "\u001b[1m192/192\u001b[0m \u001b[32m━━━━━━━━━━━━━━━━━━━━\u001b[0m\u001b[37m\u001b[0m \u001b[1m41s\u001b[0m 147ms/step - loss: 3378.5530 - mae: 38.9016 - val_loss: 7072.2383 - val_mae: 53.0178 - learning_rate: 5.0000e-04\n",
            "Epoch 14/30\n",
            "\u001b[1m192/192\u001b[0m \u001b[32m━━━━━━━━━━━━━━━━━━━━\u001b[0m\u001b[37m\u001b[0m \u001b[1m41s\u001b[0m 147ms/step - loss: 3621.5120 - mae: 40.0537 - val_loss: 6320.8979 - val_mae: 50.3006 - learning_rate: 5.0000e-04\n",
            "Epoch 15/30\n",
            "\u001b[1m192/192\u001b[0m \u001b[32m━━━━━━━━━━━━━━━━━━━━\u001b[0m\u001b[37m\u001b[0m \u001b[1m40s\u001b[0m 142ms/step - loss: 3418.7100 - mae: 39.1960 - val_loss: 6189.4561 - val_mae: 50.6159 - learning_rate: 5.0000e-04\n",
            "Epoch 16/30\n",
            "\u001b[1m192/192\u001b[0m \u001b[32m━━━━━━━━━━━━━━━━━━━━\u001b[0m\u001b[37m\u001b[0m \u001b[1m42s\u001b[0m 147ms/step - loss: 3310.8347 - mae: 38.4177 - val_loss: 5942.9478 - val_mae: 50.4210 - learning_rate: 5.0000e-04\n",
            "Epoch 17/30\n",
            "\u001b[1m192/192\u001b[0m \u001b[32m━━━━━━━━━━━━━━━━━━━━\u001b[0m\u001b[37m\u001b[0m \u001b[1m28s\u001b[0m 148ms/step - loss: 3164.1086 - mae: 37.8928 - val_loss: 5991.6890 - val_mae: 50.1978 - learning_rate: 2.5000e-04\n",
            "Epoch 18/30\n",
            "\u001b[1m192/192\u001b[0m \u001b[32m━━━━━━━━━━━━━━━━━━━━\u001b[0m\u001b[37m\u001b[0m \u001b[1m41s\u001b[0m 146ms/step - loss: 3085.5710 - mae: 37.1895 - val_loss: 5939.8096 - val_mae: 50.2028 - learning_rate: 2.5000e-04\n",
            "Epoch 19/30\n",
            "\u001b[1m192/192\u001b[0m \u001b[32m━━━━━━━━━━━━━━━━━━━━\u001b[0m\u001b[37m\u001b[0m \u001b[1m42s\u001b[0m 149ms/step - loss: 3082.7756 - mae: 37.3527 - val_loss: 5854.0005 - val_mae: 50.3293 - learning_rate: 2.5000e-04\n",
            "Epoch 20/30\n",
            "\u001b[1m192/192\u001b[0m \u001b[32m━━━━━━━━━━━━━━━━━━━━\u001b[0m\u001b[37m\u001b[0m \u001b[1m41s\u001b[0m 147ms/step - loss: 2955.4026 - mae: 36.5354 - val_loss: 6082.5562 - val_mae: 50.8108 - learning_rate: 2.5000e-04\n",
            "\n",
            "📊 Model Performance:\n",
            "Validation RMSE: 76.40\n",
            "Validation MAE: 50.58\n"
          ]
        },
        {
          "output_type": "display_data",
          "data": {
            "text/plain": [
              "<Figure size 1200x400 with 2 Axes>"
            ],
            "image/png": "[encoded data removed]"
          },
          "metadata": {}
        }
      ]
    },
    {
      "cell_type": "markdown",
      "source": [
        "### SECTION 7: FEATURE IMPORTANCE ANALYSIS"
      ],
      "metadata": {
        "id": "Wu9GzPkeBI6E"
      }
    },
    {
      "cell_type": "code",
      "source": [
        "# Get feature scores\n",
        "feature_scores = pd.DataFrame({\n",
        "    'feature': selected_features,\n",
        "    'score': selector.scores_[selected_mask]\n",
        "}).sort_values('score', ascending=False)\n",
        "\n",
        "print(\"📊 Top 10 most important features:\")\n",
        "print(feature_scores.head(10))\n",
        "\n",
        "plt.figure(figsize=(10, 8))\n",
        "plt.barh(feature_scores['feature'][:15], feature_scores['score'][:15])\n",
        "plt.title('Top 15 Feature Importance Scores')\n",
        "plt.xlabel('Importance Score')\n",
        "plt.tight_layout()\n",
        "plt.show()\n"
      ],
      "metadata": {
        "colab": {
          "base_uri": "https://localhost:8080/",
          "height": 1000
        },
        "id": "_jaquiUEBJR5",
        "outputId": "f2716460-a691-4f67-b571-b49621711ed8"
      },
      "execution_count": 14,
      "outputs": [
        {
          "output_type": "stream",
          "name": "stdout",
          "text": [
            "📊 Top 10 most important features:\n",
            "          feature        score\n",
            "7   temp_dew_diff  6451.874230\n",
            "24      Iws_lag_1  2087.603294\n",
            "3             Iws  2085.539198\n",
            "27      Iws_lag_3  1989.179845\n",
            "29      Iws_lag_6  1747.771305\n",
            "17        cbwd_NW  1676.128176\n",
            "1            DEWP  1572.883822\n",
            "23     DEWP_lag_1  1546.838962\n",
            "13     DEWP_lag_3  1380.532999\n",
            "5      DEWP_lag_6  1071.401996\n"
          ]
        },
        {
          "output_type": "display_data",
          "data": {
            "text/plain": [
              "<Figure size 1000x800 with 1 Axes>"
            ],
            "image/png": "[encoded data removed]"
          },
          "metadata": {}
        }
      ]
    },
    {
      "cell_type": "markdown",
      "source": [
        "SECTION 8: TEST PREDICTION"
      ],
      "metadata": {
        "id": "iLq_bLdGBUVj"
      }
    },
    {
      "cell_type": "code",
      "source": [
        "# Create sequences for test data\n",
        "X_test_seq = []\n",
        "current_sequence = X_train_scaled[-TIME_STEPS:].copy()\n",
        "\n",
        "for i in range(len(X_test_scaled)):\n",
        "    current_sequence = np.roll(current_sequence, -1, axis=0)\n",
        "    current_sequence[-1] = X_test_scaled[i]\n",
        "    X_test_seq.append(current_sequence.copy())\n",
        "\n",
        "X_test_seq = np.array(X_test_seq)\n",
        "print(f\"Test sequences shape: {X_test_seq.shape}\")\n",
        "\n",
        "# Generate predictions\n",
        "test_predictions = model.predict(X_test_seq, verbose=1)\n",
        "test_predictions = np.nan_to_num(test_predictions.flatten())\n",
        "\n",
        "# Ensure correct length\n",
        "predictions_full = test_predictions\n",
        "if len(predictions_full) > len(test_filled):\n",
        "    predictions_full = predictions_full[:len(test_filled)]\n",
        "elif len(predictions_full) < len(test_filled):\n",
        "    last_pred = predictions_full[-1] if len(predictions_full) > 0 else 0\n",
        "    pad_needed = len(test_filled) - len(predictions_full)\n",
        "    predictions_full = np.append(predictions_full, [last_pred] * pad_needed)\n",
        "\n",
        "print(f\"Predictions generated: {len(predictions_full)}\")"
      ],
      "metadata": {
        "colab": {
          "base_uri": "https://localhost:8080/"
        },
        "id": "6IPn7Ti9BWWp",
        "outputId": "ee73f8cd-8ea1-4706-fc6d-c719508d8e01"
      },
      "execution_count": 25,
      "outputs": [
        {
          "output_type": "stream",
          "name": "stdout",
          "text": [
            "Test sequences shape: (13148, 24, 30)\n",
            "\u001b[1m411/411\u001b[0m \u001b[32m━━━━━━━━━━━━━━━━━━━━\u001b[0m\u001b[37m\u001b[0m \u001b[1m6s\u001b[0m 15ms/step\n",
            "Predictions generated: 13148\n"
          ]
        }
      ]
    },
    {
      "cell_type": "markdown",
      "source": [],
      "metadata": {
        "id": "SjFymL45BnnO"
      }
    },
    {
      "cell_type": "markdown",
      "source": [
        "SECTION 9: SUBMISSION"
      ],
      "metadata": {
        "id": "qdVqvglrBrLo"
      }
    },
    {
      "cell_type": "code",
      "source": [
        "# ==================== SECTION 9: SUBMISSION PREPARATION ====================\n",
        "print(\"\\n\" + \"=\"*50)\n",
        "print(\"SUBMISSION PREPARATION - LEADING ZERO FIX\")\n",
        "print(\"=\"*50)\n",
        "\n",
        "# Load the ORIGINAL test data to get the EXACT datetime strings\n",
        "test_original = pd.read_csv('/content/drive/My Drive/air_quality/data/test.csv')\n",
        "original_datetimes = test_original['datetime']\n",
        "\n",
        "print(f\"Original test data length: {len(original_datetimes)}\")\n",
        "print(f\"Predictions length: {len(predictions_full)}\")\n",
        "\n",
        "# MANUAL removal of leading zeros - guaranteed to work\n",
        "def remove_leading_zeros(dt_str):\n",
        "    \"\"\"Remove leading zeros from hours in datetime string\"\"\"\n",
        "    if ' ' in str(dt_str) and ':' in str(dt_str):\n",
        "        date_part, time_part = str(dt_str).split(' ')\n",
        "        time_parts = time_part.split(':')\n",
        "\n",
        "        # Remove leading zero from hour (e.g., \"04\" -> \"4\")\n",
        "        if time_parts[0].startswith('0') and len(time_parts[0]) == 2:\n",
        "            time_parts[0] = time_parts[0][1]  # Remove the first character if it's '0'\n",
        "\n",
        "        return f\"{date_part} {':'.join(time_parts)}\"\n",
        "    return str(dt_str)\n",
        "\n",
        "# Apply to all datetime strings\n",
        "formatted_datetimes = [remove_leading_zeros(dt) for dt in original_datetimes]\n",
        "\n",
        "print(\" Manual leading zero removal completed\")\n",
        "\n",
        "# Ensure both arrays have same length\n",
        "if len(formatted_datetimes) != len(predictions_full):\n",
        "    min_length = min(len(formatted_datetimes), len(predictions_full))\n",
        "    formatted_datetimes = formatted_datetimes[:min_length]\n",
        "    predictions_adjusted = predictions_full[:min_length]\n",
        "    print(f\"Adjusted to common length: {min_length}\")\n",
        "else:\n",
        "    predictions_adjusted = predictions_full\n",
        "\n",
        "# Create submission with formatted datetime strings (no leading zeros)\n",
        "submission = pd.DataFrame({\n",
        "    'row ID': formatted_datetimes,\n",
        "    'pm2.5': np.clip(predictions_adjusted, 0, None).astype(int)\n",
        "})\n",
        "\n",
        "print(f\" Final submission shape: {submission.shape}\")\n",
        "\n",
        "# Save the submission\n",
        "save_dir = '/content/drive/MyDrive/Kaggle_competition_ML/air_quality_forcasting'\n",
        "os.makedirs(save_dir, exist_ok=True)\n",
        "\n",
        "# FIRST FILE: Regular submission\n",
        "submission_file_1 = os.path.join(save_dir, 'submission_no_zeros.csv')  # DIFFERENT NAME\n",
        "submission.to_csv(submission_file_1, index=False)\n",
        "print(f\" Submission file 1 saved: {submission_file_1}\")\n",
        "\n"
      ],
      "metadata": {
        "colab": {
          "base_uri": "https://localhost:8080/"
        },
        "id": "hPUBq3ZqBnRv",
        "outputId": "24b3a14a-7d87-44a9-b093-4d15d101b6ff"
      },
      "execution_count": 30,
      "outputs": [
        {
          "output_type": "stream",
          "name": "stdout",
          "text": [
            "\n",
            "==================================================\n",
            "SUBMISSION PREPARATION - LEADING ZERO FIX\n",
            "==================================================\n",
            "Original test data length: 13148\n",
            "Predictions length: 13148\n",
            " Manual leading zero removal completed\n",
            "✅ Final submission shape: (13148, 2)\n",
            "✅ Submission file 1 saved: /content/drive/MyDrive/Kaggle_competition_ML/air_quality_forcasting/submission_no_zeros.csv\n"
          ]
        }
      ]
    }
  ]
}